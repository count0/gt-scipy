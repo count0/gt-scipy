{
 "cells": [
  {
   "cell_type": "markdown",
   "metadata": {},
   "source": [
    "# Scientific Python\n",
    "## Central European University, Fall 2023/2024\n",
    "\n",
    "Instructor: Tiago Peixoto (standing in for Márton Posfai)\n",
    "\n",
    "Emails: <peixotot@ceu.edu>"
   ]
  },
  {
   "cell_type": "markdown",
   "metadata": {},
   "source": [
    "# Networks"
   ]
  },
  {
   "cell_type": "markdown",
   "metadata": {},
   "source": [
    "## Brief introduction\n",
    "\n",
    "<b>Networks (or graphs)</b> are mathematical objects composed of two sets $N$ and $E$, of vertices (a.k.a. nodes) and edges (a.k.a. links). Each edge in $E$ is pair of nodes in $V$.\n",
    "\n",
    "<img src=\"social_networks2.gif\" alt=\"a Network\" style=\"width:304px;height:228px;\">\n",
    "\n",
    "\n",
    "Basic types of graphs:\n",
    "* **Undirected** or **directed** networks. The friendship network in Facebook is an example of an undirected graph, twitter is a directed graph.\n",
    "* **Simple graphs** or **multigraphs**: In simple graphs only one edge is allowed between two nodes. In multigraphs this restriction is lifted.\n",
    "* **Unweighted** or **weighted**: the friendship network in Facebook is unweighted, the airport network (nodes: airports, links: number of airplanes flying between two airports) is weighted. \n",
    "\n",
    "Jargon:\n",
    "* Node $j$ is a **neighbor** of node $i$ if the edge $(i,j)$ exists. The **neighborhood** of $i$ is the set of all $i$'s neighbors.\n",
    "* The **degree** of $i$ is the number of its neighbors. The **degree distribution** $P(k)$ is the probability that a randomly chosen node in the network has degree $k$.\n",
    "* **Hubs** are nodes with very high degree. In many networks (the Internet, social networks, etc.) they are rare but much more common than you may expect.\n",
    "* **Sparse networks**: Most pairs of nodes do not have a link. Real-world networks are of this kind.\n",
    "* A **path** between two nodes, say $i$ and $j$, is the sequence of nodes that you need to traverse in order to get from $i$ to $j$ (and from $j$ to $i$ in case of undirected graphs).\n",
    "* The **distance** between nodes $i$ and $j$ is the length of the *shortest path* between them. The **diameter** of a network is the *longest* shortest path.\n",
    "* The local **clustering coefficient** $c_i$ of node $i$ is the fraction of neighbors of $i$ that are linked: \n",
    "\n",
    "  $$c_i = \\frac{T_i}{\\binom{k_i}{2}} = \\frac{2T_i}{k_i(k_i-1)}$$\n",
    "\n",
    "  where $T_i$ is the number of triangles to which node $i$ belongs (i.e. the number of connected neighbors). In other words, it quantifies how many of $i$'s 'friends' also 'friends' with each other.\n",
    "\n",
    "Specific graphs:\n",
    "* **Complete graphs**: every link exists $\\binom{n}{2}$ links for $n$ nodes.\n",
    "* **Lattices**\n",
    "* **Erdős-Rényi** random graphs: Every possible edge exists with probability $p$\n",
    "* Many more\n",
    "\n"
   ]
  },
  {
   "cell_type": "markdown",
   "metadata": {},
   "source": [
    "### Working with networks in Python\n",
    "\n",
    "There are several network packages for Python:\n",
    "\n",
    "* NetworkX: https://networkx.github.io/\n",
    "* igraph: https://igraph.org/\n",
    "* graph-tool: https://graph-tool.skewed.de/\n",
    "\n",
    "In this course whe will use `graph-tool`. Why? See a performance comparison here: https://graph-tool.skewed.de/performance\n",
    "\n",
    "NetworkX is implemented in pure Python. Instead, `graph-tool` follows the Numpy philosophy, and implements the core data structure and algorithms in a lower-level language, C++ with [templates](https://en.wikipedia.org/wiki/Template_(C%2B%2B)). This means a performance improvement of up to 200x.\n",
    "\n",
    "**But there is no free lunch!** Implementing a library in C++ means that it requires the C++ infrastructure and environmente to be compiled and installed in different architectures. C++ is not as portable as (pure) Python, so a program compiled for GNU/Linux does not work in MacOS, etc.\n",
    "\n",
    "If using MacOS or GNU/Linux, the easiest way to do this is by using [anaconda](https://www.anaconda.com/):\n",
    "\n",
    "```\n",
    "conda create --name gt -c conda-forge graph-tool\n",
    "conda activate gt\n",
    "```\n",
    "\n",
    "Further instructions to install graph-tool in various systems are available here: https://git.skewed.de/count0/graph-tool/wikis/installation-instructions\n",
    "\n",
    "``graph-tool`` has **lots** of documentation that you should definitely read: https://graph-tool.skewed.de/static/doc"
   ]
  },
  {
   "cell_type": "markdown",
   "metadata": {},
   "source": [
    "If you open this notebook on https://colab.research.google.com you will be able to install graph-tool by running the following cell (run it only once!)."
   ]
  },
  {
   "cell_type": "code",
   "execution_count": null,
   "metadata": {},
   "outputs": [],
   "source": [
    "!echo \"deb http://downloads.skewed.de/apt jammy main\" >> /etc/apt/sources.list\n",
    "!apt-key adv --keyserver keys.openpgp.org --recv-key 612DEFB798507F25\n",
    "!apt-get update\n",
    "!apt-get install python3-graph-tool python3-cairo python3-matplotlib"
   ]
  },
  {
   "cell_type": "markdown",
   "metadata": {},
   "source": [
    "### Creating a Graph"
   ]
  },
  {
   "cell_type": "code",
   "execution_count": null,
   "metadata": {},
   "outputs": [],
   "source": [
    "import numpy as np\n",
    "from graph_tool.all import *\n",
    "\n",
    "g = Graph()            # create an empty graph with no vertices and no edges. \n",
    "print(g)\n",
    "\n",
    "# By default graphs are directed. If you wish undirected graphs, you need to pass the option: directed=False\n",
    "\n",
    "g = Graph(directed=False)\n",
    "print(g)"
   ]
  },
  {
   "cell_type": "markdown",
   "metadata": {},
   "source": [
    "### Vertices\n",
    "Adding vertices (nodes) are done with the ``Graph.add_vertex()`` method."
   ]
  },
  {
   "cell_type": "code",
   "execution_count": null,
   "metadata": {},
   "outputs": [],
   "source": [
    "v = g.add_vertex()    # add a single vertex, and returns the vertex object\n",
    "print(v)"
   ]
  },
  {
   "cell_type": "code",
   "execution_count": null,
   "metadata": {},
   "outputs": [],
   "source": [
    "vs = g.add_vertex(10)    # you can add many vertices at once, and an iterator to the vertices added is returned\n",
    "print(list(vs))\n",
    "print(g.num_vertices())"
   ]
  },
  {
   "cell_type": "markdown",
   "metadata": {},
   "source": [
    "Vertices are always indexed from `0` to `N-1` where `N` is the total number of vertices.\n",
    "\n",
    "We can always obtain the vertex object directly from the index:"
   ]
  },
  {
   "cell_type": "code",
   "execution_count": null,
   "metadata": {},
   "outputs": [],
   "source": [
    "v = g.vertex(5)\n",
    "v"
   ]
  },
  {
   "cell_type": "markdown",
   "metadata": {},
   "source": [
    "### Edges\n",
    "\n",
    "We can add edges using ``Graph.add_edge()``."
   ]
  },
  {
   "cell_type": "code",
   "execution_count": null,
   "metadata": {},
   "outputs": [],
   "source": [
    "v1 = g.vertex(0)\n",
    "v2 = g.vertex(1)\n",
    "\n",
    "e = g.add_edge(v1, v2)\n",
    "\n",
    "print(repr(e))\n",
    "\n",
    "# we can also use the vertex index directly:\n",
    "\n",
    "e2 = g.add_edge(0, 2)\n",
    "\n",
    "print(repr(e2))\n",
    "\n",
    "print(g.num_edges())"
   ]
  },
  {
   "cell_type": "markdown",
   "metadata": {},
   "source": [
    "We can add many edges at once using `Graph.add_edge_list()`:"
   ]
  },
  {
   "cell_type": "code",
   "execution_count": null,
   "metadata": {},
   "outputs": [],
   "source": [
    "g = Graph(directed=False)\n",
    "g.add_edge_list([(0, 1), (2, 3), (1, 0), (3, 4)])  # non-existing vertices are automatically added!\n",
    "\n",
    "print(g)"
   ]
  },
  {
   "cell_type": "code",
   "execution_count": null,
   "metadata": {},
   "outputs": [],
   "source": [
    "# We can lookup the existence of edges with the ``Graph.edge()`` method:\n",
    "\n",
    "e = g.edge(2, 3)\n",
    "print(e)\n",
    "\n",
    "e = g.edge(2, 4)\n",
    "print(e)\n",
    "\n",
    "\n",
    "# We can query the source and target of an edge:\n",
    "\n",
    "e = g.edge(2, 3)\n",
    "\n",
    "print(e.source(), e.target())\n",
    "\n",
    "# We can also convert an edge to a tuple:\n",
    "\n",
    "u, v = e\n",
    "\n",
    "print(u, v)\n",
    "print(type(u))"
   ]
  },
  {
   "cell_type": "markdown",
   "metadata": {},
   "source": [
    "### Iterating over vertices and edges"
   ]
  },
  {
   "cell_type": "code",
   "execution_count": null,
   "metadata": {},
   "outputs": [],
   "source": [
    "for v in g.vertices():\n",
    "    print(v)\n",
    "    \n",
    "for e in g.edges():\n",
    "    print(e)\n",
    "\n",
    "for u, v in g.edges():\n",
    "    print(u, v)\n",
    "    \n",
    "for v in g.vertices():\n",
    "    print(f\"Edges incident on {v}: \", end=\"\")\n",
    "    for e in v.out_edges():\n",
    "        print(e, end=\" \")\n",
    "    print()\n",
    "    \n",
    "for v in g.vertices():\n",
    "    print(f\"The degree of node {v} is {v.out_degree()} and its neighbors are: \", end=\"\")\n",
    "    for u in v.out_neighbors():\n",
    "        print(u, end=\" \")\n",
    "    print()"
   ]
  },
  {
   "cell_type": "markdown",
   "metadata": {},
   "source": [
    "### Directed graphs"
   ]
  },
  {
   "cell_type": "code",
   "execution_count": null,
   "metadata": {},
   "outputs": [],
   "source": [
    "g = Graph()\n",
    "g.add_edge_list([(0, 1), (2, 3), (1, 0), (3, 4)])\n",
    "\n",
    "print(g)\n",
    "\n",
    "for v in g.vertices():\n",
    "    print(f\"Outgoing edges from {v}: \", end=\"\")\n",
    "    for e in v.out_edges():\n",
    "        print(e, end=\" \")\n",
    "    print()\n",
    "    \n",
    "    print(f\"Incoming edges to {v}: \", end=\"\")\n",
    "    for e in v.in_edges():\n",
    "        print(e, end=\" \")        \n",
    "    print()\n",
    "    \n",
    "for v in g.vertices():\n",
    "    print(f\"The out-degree of node {v} is {v.out_degree()} and its out-neighbors are: \", end=\"\")\n",
    "    for u in v.out_neighbors():\n",
    "        print(u, end=\" \")\n",
    "    print()\n",
    "\n",
    "    print(f\"The in-degree of node {v} is {v.in_degree()} and its in-neighbors are: \", end=\"\")\n",
    "    for u in v.in_neighbors():\n",
    "        print(u, end=\" \")\n",
    "    print()\n",
    "\n"
   ]
  },
  {
   "cell_type": "markdown",
   "metadata": {},
   "source": [
    "### Drawing Graphs\n",
    "\n",
    "``graph-tool`` has sophisticated routines for drawing graphs."
   ]
  },
  {
   "cell_type": "code",
   "execution_count": null,
   "metadata": {},
   "outputs": [],
   "source": [
    "graph_draw(g, vertex_text=g.vertex_index, output_size=(200, 200));"
   ]
  },
  {
   "cell_type": "markdown",
   "metadata": {},
   "source": [
    "### Exercise 1\n",
    "\n",
    "Create and draw the following graph:\n",
    "\n",
    "<img src=\"https://upload.wikimedia.org/wikipedia/commons/9/96/K%C3%B6nigsberg_graph.svg\"/>\n",
    "\n",
    "\n",
    "<details><summary><u>Solution.</u></summary>\n",
    "<p>\n",
    "\n",
    "```python\n",
    "g = Graph(directed=False)\n",
    "for u, v in [(0,1), (0,1), (1,2), (2,0), (2, 3), (3, 0), (3, 0)]:\n",
    "    g.add_edge(u, v)\n",
    "graph_draw(g, output_size=(200,200));\n",
    "```\n",
    "</p>\n",
    "</details>\n",
    "    "
   ]
  },
  {
   "cell_type": "code",
   "execution_count": null,
   "metadata": {},
   "outputs": [],
   "source": []
  },
  {
   "cell_type": "markdown",
   "metadata": {},
   "source": [
    "### Exercise 2\n",
    "\n",
    "Using the graph created above:\n",
    "\n",
    "* Count the number of edges\n",
    "* Count the number of nodes\n",
    "* Calculate the average degree per node\n",
    "* Calculate the maximum and minimum number of neighbors\n",
    "* Calculate the number of nodes with degree = 3\n",
    "\n",
    "<details><summary><u>Solution.</u></summary>\n",
    "<p>\n",
    "    \n",
    "```python\n",
    "print(\"Number of edges:\", g.num_edges())\n",
    "print(\"Number of nodes:\", g.num_vertices())\n",
    "print(\"Average degree:\", 2 * g.num_edges() / g.num_vertices())\n",
    "print(\"Average degree:\", np.mean([v.out_degree() for v in g.vertices()]))\n",
    "print(\"Maximum degree:\", max([v.out_degree() for v in g.vertices()]))\n",
    "print(\"Minimum degree:\", min([v.out_degree() for v in g.vertices()]))\n",
    "print(\"Number of nodes with degree 3:\", len([v for v in g.vertices() if v.out_degree() == 3]))\n",
    "```\n",
    "</p>\n",
    "</details>"
   ]
  },
  {
   "cell_type": "code",
   "execution_count": null,
   "metadata": {},
   "outputs": [],
   "source": []
  },
  {
   "cell_type": "markdown",
   "metadata": {},
   "source": [
    "## Property maps\n",
    "\n",
    "In ``graph-tool`` we can attribute nodes and edges with arbitrary properties using property maps.\n",
    "\n",
    "Property maps can be of the following types:\n",
    "\n",
    "    \n",
    "|Type name                     | Alias                                   |\n",
    "|------------------------------|-----------------------------------------|\n",
    "|``bool``                      |    ``uint8_t``                          |\n",
    "|``int16_t``                   |    ``short``                            |\n",
    "|    ``int32_t``               |    ``int``                              |\n",
    "|    ``int64_t``               |    ``long``, ``long long``              |\n",
    "|    ``double``                |    ``float``                            |\n",
    "|    ``long double``           |                                         | \n",
    "|    ``string``                |                                         |\n",
    "|    ``vector<bool>``          |    ``vector<uint8_t>``                  |\n",
    "|    ``vector<int16_t>``       |    ``vector<short>``                    |\n",
    "|    ``vector<int32_t>``       |    ``vector<int>``                      |\n",
    "|    ``vector<int64_t>``       | ``vector<long>``, ``vector<long long>`` |\n",
    "|    ``vector<double>``        |    ``vector<float>``                    |\n",
    "|    ``vector<long double>``   |                                         |\n",
    "|    ``vector<string>``        |                                         |\n",
    "|    ``python::object``        |   ``object``                            |\n",
    "\n"
   ]
  },
  {
   "cell_type": "code",
   "execution_count": null,
   "metadata": {},
   "outputs": [],
   "source": [
    "g = Graph()\n",
    "g.add_edge_list([(0, 1), (2, 3), (1, 0), (3, 4)])\n",
    "\n",
    "vsize = g.new_vp(\"int\")      # new vertex property map of type int\n",
    "eweight = g.new_ep(\"double\") # new edge property map of type double\n",
    "\n",
    "for v in g.vertices():\n",
    "    vsize[v] = 10\n",
    "    \n",
    "for e in g.edges():\n",
    "    eweight[e] = 3.2\n",
    "    \n",
    "# We can also access the values of property maps as numpy arrays:\n",
    "\n",
    "print(vsize.a)\n",
    "\n",
    "vsize.a = [3, 10, 5, 1, 15]\n",
    "vsize.a *= 4\n",
    "\n",
    "vsize.a[4] = 3\n",
    "vsize[g.vertex(4)] = 3\n",
    "\n",
    "print(g.vertex_index[g.vertex(4)])\n",
    "print(g.edge_index[g.edge(2,3)])\n",
    "\n",
    "\n",
    "eweight.a = [3.2] * 2 + [1., 2.]\n",
    "    \n",
    "# property maps can be used with many functions, e.g. graph_draw()\n",
    "\n",
    "graph_draw(g, vertex_size=vsize, vertex_fill_color=vsize, edge_pen_width=eweight, output_size=(300, 300));\n"
   ]
  },
  {
   "cell_type": "code",
   "execution_count": null,
   "metadata": {},
   "outputs": [],
   "source": [
    "# shortest paths\n",
    "\n",
    "g = lattice([25, 25])\n",
    "\n",
    "vertices, edges = shortest_path(g, g.vertex(0), g.vertex(g.num_vertices() - 1))\n",
    "\n",
    "ecolor = g.new_ep(\"string\", val=\"black\")\n",
    "vcolor = g.new_vp(\"string\", val=\"black\")\n",
    "\n",
    "for v in vertices:\n",
    "    vcolor[v] = \"red\"\n",
    "for e in edges:\n",
    "    ecolor[e] = \"red\"\n",
    "\n",
    "pos = sfdp_layout(g, multilevel=True)\n",
    "\n",
    "graph_draw(g, pos=pos, vertex_fill_color=vcolor, edge_color=ecolor, output_size=(300, 300));\n"
   ]
  },
  {
   "cell_type": "code",
   "execution_count": null,
   "metadata": {},
   "outputs": [],
   "source": [
    "# now we use random weights\n",
    "\n",
    "import numpy.random\n",
    "\n",
    "eweights = g.new_ep(\"double\")\n",
    "eweights.a = numpy.random.random(len(eweights.a))\n",
    "print(eweights.a)\n",
    "\n",
    "vertices, edges = shortest_path(g, g.vertex(0), g.vertex(g.num_vertices() - 1), weights=eweights)\n",
    "\n",
    "ecolor = g.new_ep(\"string\", val=\"black\")\n",
    "vcolor = g.new_vp(\"string\", val=\"black\")\n",
    "\n",
    "for v in vertices:\n",
    "    vcolor[v] = \"red\"\n",
    "for e in edges:\n",
    "    ecolor[e] = \"red\"\n",
    "\n",
    "ewidth = eweights.copy()\n",
    "ewidth.a = (1-ewidth.a) * 1.5\n",
    "    \n",
    "graph_draw(g, pos=pos, vertex_fill_color=vcolor, edge_color=ecolor, edge_pen_width=ewidth, output_size=(400,400));"
   ]
  },
  {
   "cell_type": "markdown",
   "metadata": {},
   "source": [
    "#### Exercise 3\n",
    "\n",
    "Consider the weighted undirected graph corresponding to the following list of edges:\n",
    "\n",
    "    (a, b) weight = 0.6\n",
    "    (a, c) weight = 0.2\n",
    "    (c, d) weight = 0.1\n",
    "    (c, e) weight = 0.7\n",
    "    (c, f) weight = 0.9\n",
    "    (a, d) weight = 0.3\n",
    "\n",
    "* Create a graph with the edges above and two property maps, vlabel and eweight, with the vertex labels and edge weights, respectively.\n",
    "* Draw the graph, using the edge weight as edge width.\n",
    "* Compute the shortest path from 'b' to 'e' and draw it.\n",
    "* Change the edge weights so that the shortest path goes through 'd'.\n",
    "\n",
    "<details><summary><u>Solution.</u></summary>\n",
    "<p>\n",
    "\n",
    "```python\n",
    "vs = ['a', 'b', 'c', 'd', 'e', 'f']\n",
    "elist = [('a', 'b', .6),\n",
    "         ('a', 'c', .2),\n",
    "         ('c', 'd', .1),\n",
    "         ('c', 'e', .7),\n",
    "         ('c', 'f', .9),\n",
    "         ('a', 'd', .3)]\n",
    "\n",
    "# doing it by 'hand'\n",
    "g = Graph(directed=False)\n",
    "vlabel = g.new_vp(\"string\")\n",
    "eweight = g.new_ep(\"double\")\n",
    "\n",
    "vmap = {}\n",
    "for i, v in enumerate(g.add_vertex(len(vs))):\n",
    "    vlabel[v] = vs[i]\n",
    "    vmap[vs[i]] = v\n",
    "\n",
    "for s, t, w in elist:\n",
    "    e = g.add_edge(vmap[s], vmap[t])\n",
    "    eweight[e] = w\n",
    "    \n",
    "graph_draw(g, vertex_text=vlabel, vertex_font_size=20, edge_pen_width=prop_to_size(eweight, 1, 10),\n",
    "           output_size=(300,300));\n",
    "    \n",
    "# Doing it using Graph.add_edge_list()\n",
    "g = Graph(directed=False)\n",
    "eweight = g.new_ep(\"double\")\n",
    "vlabel = g.add_edge_list(elist, hashed=True, eprops=[eweight])\n",
    "pos = graph_draw(g, vertex_text=vlabel, vertex_font_size=20, edge_pen_width=prop_to_size(eweight, 1, 10),\n",
    "                 output_size=(300,300))    \n",
    "\n",
    "# Shortest paths\n",
    "vmap = {}\n",
    "for v in g.vertices():\n",
    "    vmap[vlabel[v]] = v\n",
    "    \n",
    "vs, es = shortest_path(g, vmap[\"b\"], vmap[\"e\"], weights=eweight)\n",
    "print(vs)\n",
    "\n",
    "ecolor = g.new_ep(\"int\")\n",
    "for e in es:\n",
    "    ecolor[e] = 1\n",
    "    \n",
    "graph_draw(g, pos=pos, vertex_text=vlabel, vertex_font_size=20, edge_pen_width=prop_to_size(eweight, 1, 10),\n",
    "           edge_color=ecolor, output_size=(300,300));\n",
    "\n",
    "# Make the shortest path go through \"d\"\n",
    "\n",
    "e = g.edge(vmap[\"a\"], vmap[\"c\"])\n",
    "eweight[e] = 10\n",
    "\n",
    "vs, es = shortest_path(g, vmap[\"b\"], vmap[\"e\"], weights=eweight)\n",
    "\n",
    "ecolor.a = 0\n",
    "for e in es:\n",
    "    ecolor[e] = 1\n",
    "    \n",
    "graph_draw(g, pos=pos, vertex_text=vlabel, vertex_font_size=20, edge_pen_width=prop_to_size(eweight, 1, 10),\n",
    "           edge_color=ecolor, output_size=(300,300));    \n",
    "    \n",
    "```\n",
    "</p>\n",
    "</details>"
   ]
  },
  {
   "cell_type": "code",
   "execution_count": null,
   "metadata": {},
   "outputs": [],
   "source": []
  },
  {
   "cell_type": "markdown",
   "metadata": {},
   "source": [
    "### Exercise 4\n",
    "Create a graph with 20 nodes, and randomly add 20 edges. Plot the resulting graph.\n",
    "\n",
    "<details><summary><u>Solution.</u></summary>\n",
    "<p>\n",
    "```python\n",
    "g = Graph(directed=False)\n",
    "g.add_vertex(20)\n",
    "for i in range(20):\n",
    "    u = v = 0\n",
    "    while u == v or g.edge(u, v) is not None:\n",
    "        u = np.random.randint(20)\n",
    "        v = np.random.randint(20)\n",
    "    g.add_edge(u, v)\n",
    "graph_draw(g, output_size=(200, 200));\n",
    "```\n",
    "</p>\n",
    "</details>"
   ]
  },
  {
   "cell_type": "code",
   "execution_count": null,
   "metadata": {},
   "outputs": [],
   "source": []
  },
  {
   "cell_type": "markdown",
   "metadata": {},
   "source": [
    "### Random graphs"
   ]
  },
  {
   "cell_type": "code",
   "execution_count": null,
   "metadata": {},
   "outputs": [],
   "source": [
    "# Let's generate an ER graph (as a special case of the configuration model)\n",
    "g = random_graph(1000, lambda: numpy.random.poisson(3), directed=False)\n",
    "graph_draw(g);"
   ]
  },
  {
   "cell_type": "markdown",
   "metadata": {},
   "source": [
    "### Exercise 5\n",
    "Plot the degree distribution (histogram) of the Erdős-Rényi graph generated as:\n",
    "```python\n",
    "g = random_graph(100000, lambda: numpy.random.poisson(5), directed=False)\n",
    "\n",
    "```\n",
    "\n",
    "<details><summary><u>Solution.</u></summary>\n",
    "<p>\n",
    "\n",
    "```python\n",
    "g = random_graph(100000, lambda: numpy.random.poisson(5), directed=False)\n",
    "\n",
    "#degrees = [v.out_degree() for v in g.vertices()]\n",
    "\n",
    "d = g.degree_property_map(\"out\")\n",
    "\n",
    "import matplotlib.pyplot as plt\n",
    "import numpy as np\n",
    "import scipy.stats\n",
    "\n",
    "plt.hist(d.a, bins=np.arange(0, d.a.max()+1), density=True);\n",
    "x = np.linspace(0, 18, 1000)\n",
    "plt.plot(x, scipy.stats.poisson.pmf(5, x))\n",
    "```\n",
    "</p>\n",
    "</details>\n"
   ]
  },
  {
   "cell_type": "code",
   "execution_count": null,
   "metadata": {},
   "outputs": [],
   "source": []
  },
  {
   "cell_type": "markdown",
   "metadata": {},
   "source": [
    "### Exercise 6\n",
    "\n",
    "Consider the following cell, where a random graph is generated, with a Poisson degree distribution with an average of 3. The function `label_components()` returns a property map `c` and a distribution of component sizes `s`.\n",
    "\n",
    "* Print out the size of the largest component.\n",
    "* Obtain a vertex property map with value 1 if the vertex belongs to the largest component, 0 otherwise.\n",
    "\n",
    "<details><summary><u>Solution.</u></summary>\n",
    "<p>\n",
    "\n",
    "```python\n",
    "print(s.max())\n",
    "r = s.argmax()\n",
    "lc = g.new_vp(\"bool\", vals=c.a == r)\n",
    "graph_draw(g, vertex_fill_color=lc, output_size=(300, 300))\n",
    "```\n",
    "</p>\n",
    "</details>\n"
   ]
  },
  {
   "cell_type": "code",
   "execution_count": null,
   "metadata": {},
   "outputs": [],
   "source": [
    "import numpy\n",
    "g = random_graph(1000, lambda: numpy.random.poisson(3), directed=False)\n",
    "c, s = label_components(g)\n",
    "graph_draw(g, vertex_fill_color=c);"
   ]
  },
  {
   "cell_type": "code",
   "execution_count": null,
   "metadata": {},
   "outputs": [],
   "source": []
  },
  {
   "cell_type": "markdown",
   "metadata": {},
   "source": [
    "### Exercise 7\n",
    "The cell below generates a Barabási-Abert network with N=2000 nodes and m=1 new-node degrees.\n",
    "\n",
    "Plot the degree distribution of a BA network with N=100000 and m=2 in log-log scale. (Do not try to draw it; it would take very long.)\n",
    "<details><summary><u>Solution.</u></summary>\n",
    "<p>\n",
    "    \n",
    "```python\n",
    "g = price_network(N=100000, m=2, directed=False) # Barabasi-Albert network\n",
    "# degs = [v.out_degree() for v in g.vertices()]\n",
    "degs = g.degree_property_map(\"out\").a\n",
    "\n",
    "fig = plt.figure()\n",
    "plt.hist(degs, bins=np.logspace(1, np.log10(max(degs)), 40), log=True, density=True);\n",
    "plt.xscale(\"log\")\n",
    "```\n",
    "</p>\n",
    "</details>"
   ]
  },
  {
   "cell_type": "code",
   "execution_count": null,
   "metadata": {},
   "outputs": [],
   "source": [
    "g = price_network(N=2000, m=1, directed=False) # Barabasi-Albert network"
   ]
  },
  {
   "cell_type": "code",
   "execution_count": null,
   "metadata": {},
   "outputs": [],
   "source": []
  },
  {
   "cell_type": "markdown",
   "metadata": {},
   "source": [
    "## Removing nodes and edges\n"
   ]
  },
  {
   "cell_type": "code",
   "execution_count": null,
   "metadata": {},
   "outputs": [],
   "source": [
    "g = Graph()\n",
    "g.add_vertex(10)\n",
    "\n",
    "# Vertices that remain are always in the range [0,N-1]!\n",
    "\n",
    "v = g.vertex(5)\n",
    "g.remove_vertex(v)\n",
    "\n",
    "for v in g.vertices():\n",
    "    print(v)\n",
    "    \n",
    "g.remove_vertex([2,6,1])  # many vertices can be removed at once\n",
    "    \n",
    "    \n",
    "# However, property maps behave as expected:\n",
    "\n",
    "g = Graph()\n",
    "g.add_vertex(10)\n",
    "\n",
    "value = g.new_vp(\"int\", vals=[int(v) for v in g.vertices()])\n",
    "print(value.a)\n",
    "\n",
    "g.remove_vertex(g.vertex(5))\n",
    "print(value.a)\n",
    "\n",
    "\n",
    "# Edges are removed in a similar manner\n",
    "\n",
    "g.add_edge(0, 3)\n",
    "g.add_edge(2, 5)\n",
    "\n",
    "for e in g.edges():\n",
    "    print(e)\n",
    "\n",
    "e = g.edge(0, 3)\n",
    "g.remove_edge(e)\n",
    "\n",
    "for e in g.edges():\n",
    "    print(e)"
   ]
  },
  {
   "cell_type": "markdown",
   "metadata": {},
   "source": [
    "### Exercise\n",
    "\n",
    "* Create a graph from the edge list `ego250.list`.\n",
    "* Plot the network\n",
    "* Remove the node 250 (use `Graph.remove_vertex()`)\n",
    "* Detect the connected components\n",
    "* Keep only the largest components (delete the rest)\n",
    "* Plot the degree distribution\n",
    "\n",
    "<details><summary><u>Solution.</u></summary>\n",
    "<p>\n",
    "\n",
    "```python\n",
    "import numpy as np    \n",
    "    \n",
    "g = Graph(directed=False)\n",
    "edges = np.loadtxt(\"ego250.list\")\n",
    "labels = g.add_edge_list(edges, hashed=True)\n",
    "print(g)\n",
    "pos = graph_draw(g, vertex_text=labels);\n",
    "\n",
    "v = find_vertex(g, labels, 250)\n",
    "print(v)\n",
    "\n",
    "g.remove_vertex(v)\n",
    "\n",
    "graph_draw(g, pos, vertex_text=labels);\n",
    "\n",
    "c, s = label_components(g)\n",
    "\n",
    "c_max = s.argmax()\n",
    "\n",
    "g.remove_vertex([v for v in g.vertices() if c[v] != c_max])\n",
    "\n",
    "graph_draw(g, pos, vertex_text=labels, output_size=(300, 300));\n",
    "```\n",
    "</p>\n",
    "</details>"
   ]
  },
  {
   "cell_type": "code",
   "execution_count": null,
   "metadata": {},
   "outputs": [],
   "source": []
  },
  {
   "cell_type": "markdown",
   "metadata": {},
   "source": [
    "### Exercise 6\n",
    "* Create large Erdős-Rényi graphs with mean degrees in the range `linspace(0, 3, 40)`.\n",
    "* Plot the size of the largest component versus mean degree $\\left<k\\right>$\n",
    "* Calculate the variance of the size of the connected components <b>without the largest one</b>  and plot them against $\\left<k\\right>$\n",
    "\n",
    "<details><summary><u>Solution.</u></summary>\n",
    "<p>\n",
    "\n",
    "```python\n",
    "ks = np.linspace(0, 3, 40)\n",
    "N = 10000\n",
    "S = np.zeros(len(ks))\n",
    "s_v = np.zeros(len(ks))\n",
    "\n",
    "for i, k in enumerate(ks):\n",
    "    g = random_graph(N, lambda: numpy.random.poisson(k), directed=False)\n",
    "    c, s = label_components(g)\n",
    "    S[i] = s.max() / N\n",
    "    s = [s[i] for i in range(len(s)) if i != s.argmax()]\n",
    "    s_v[i] = np.var(s)\n",
    "    \n",
    "plt.plot(ks, S)\n",
    "plt.plot(ks, np.array(s_v) / 30)    \n",
    "```\n",
    "</p>\n",
    "</details>\n"
   ]
  },
  {
   "cell_type": "code",
   "execution_count": null,
   "metadata": {},
   "outputs": [],
   "source": []
  },
  {
   "cell_type": "markdown",
   "metadata": {},
   "source": [
    "## Graph IO and internal property maps"
   ]
  },
  {
   "cell_type": "code",
   "execution_count": null,
   "metadata": {},
   "outputs": [],
   "source": [
    "g = random_graph(10000, lambda: (3,3))\n",
    "g.save(\"g.gt\") # The gt file format is a binary format that is very efficient\n",
    "\n",
    "u = load_graph(\"g.gt\")\n",
    "print(similarity(u, g))\n",
    "\n",
    "# Other fine formats are also supported\n",
    "g.save(\"g.xml\")  # GraphML file format\n",
    "g.save(\"g.gml\")  # GML file format\n",
    "g.save(\"g.dot\")  # Dot file format\n",
    "\n",
    "# Compression can be achieved by appending \".gz\", \".bz2\" or \".xz\" to the file names:\n",
    "\n",
    "g.save(\"g.gt.gz\")\n",
    "g.save(\"g.xml.bz2\")\n",
    "g.save(\"g.dot.xz\")\n",
    "\n",
    "u = load_graph(\"g.xml.bz2\")\n",
    "print(similarity(u, g))"
   ]
  },
  {
   "cell_type": "code",
   "execution_count": null,
   "metadata": {},
   "outputs": [],
   "source": [
    "# If we want to store property maps with out graph, we need to make them internal\n",
    "\n",
    "eweight = g.new_ep(\"double\", vals=numpy.random.random(g.num_edges()))\n",
    "vcolor = g.new_vp(\"int\", vals=numpy.random.randint(0, 10, g.num_vertices()))\n",
    "\n",
    "g.ep[\"eweight\"] = eweight\n",
    "g.vp[\"vcolor\"] = vcolor\n",
    "\n",
    "g.list_properties()\n",
    "\n",
    "\n",
    "g.save(\"g.gt\")\n",
    "\n",
    "u = load_graph(\"g.gt\")\n",
    "u.list_properties()\n",
    "\n",
    "eweight = g.ep[\"eweight\"]\n",
    "vcolor = g.vp[\"vcolor\"]\n",
    "\n",
    "print(similarity(g, u, g.ep[\"eweight\"], u.ep[\"eweight\"]))\n"
   ]
  },
  {
   "cell_type": "code",
   "execution_count": null,
   "metadata": {},
   "outputs": [],
   "source": [
    "# Shortcuts for property maps. The following two statements are equivalent:\n",
    "\n",
    "print(g.ep[\"eweight\"].a)\n",
    "print(g.ep.eweight.a)\n"
   ]
  },
  {
   "cell_type": "markdown",
   "metadata": {},
   "source": [
    "## Graph filtering and graph views"
   ]
  },
  {
   "cell_type": "code",
   "execution_count": null,
   "metadata": {
    "scrolled": true
   },
   "outputs": [],
   "source": [
    "g = collection.data[\"polblogs\"]\n",
    "g.list_properties()\n",
    "graph_draw(g, pos=g.vp.pos);"
   ]
  },
  {
   "cell_type": "code",
   "execution_count": null,
   "metadata": {},
   "outputs": [],
   "source": [
    "c = label_largest_component(g, directed=False)\n",
    "u = GraphView(g, vfilt=c)\n",
    "graph_draw(u, u.vp.pos);"
   ]
  },
  {
   "cell_type": "code",
   "execution_count": null,
   "metadata": {
    "scrolled": true
   },
   "outputs": [],
   "source": [
    "print(u)"
   ]
  },
  {
   "cell_type": "code",
   "execution_count": null,
   "metadata": {},
   "outputs": [],
   "source": [
    "import matplotlib.cm\n",
    "\n",
    "vb, eb = betweenness(u)\n",
    "graph_draw(u, pos=u.vp.pos, vertex_color=vb, vertex_fill_color=vb, vertex_size=prop_to_size(vb, 5, 20),\n",
    "           vorder=vb, vcmap=matplotlib.cm.plasma);"
   ]
  },
  {
   "cell_type": "code",
   "execution_count": null,
   "metadata": {
    "scrolled": true
   },
   "outputs": [],
   "source": [
    "# Graph views can be composed.\n",
    "\n",
    "u.list_properties()"
   ]
  },
  {
   "cell_type": "code",
   "execution_count": null,
   "metadata": {},
   "outputs": [],
   "source": [
    "# let's plot only the networks of right wing blogs\n",
    "w = GraphView(u, vfilt=lambda v: u.vp.value[v] == 1)   # the supplied lambda function evaluates to True \n",
    "                                                       # for vertices that are *kept* in the graph\n",
    "    \n",
    "graph_draw(w, w.vp.pos);"
   ]
  },
  {
   "cell_type": "code",
   "execution_count": null,
   "metadata": {},
   "outputs": [],
   "source": [
    "# Let's look only at the connections between left and right wing\n",
    "w = GraphView(u, efilt=lambda e: u.vp.value[e.source()] != u.vp.value[e.target()])\n",
    "graph_draw(w, w.vp.pos);"
   ]
  },
  {
   "cell_type": "code",
   "execution_count": null,
   "metadata": {},
   "outputs": [],
   "source": [
    "# We can transform graphs between directed and undirected (and vice-versa) using GraphView as well:\n",
    "\n",
    "w = GraphView(u, directed=False)\n",
    "graph_draw(w, w.vp.pos);"
   ]
  },
  {
   "cell_type": "markdown",
   "metadata": {},
   "source": [
    "## Caveat: property map arrays and filtered graphs"
   ]
  },
  {
   "cell_type": "code",
   "execution_count": null,
   "metadata": {
    "scrolled": true
   },
   "outputs": [],
   "source": [
    "w = GraphView(u, vfilt=lambda v: u.vp.value[v] == 1)\n",
    "print(w.num_edges())\n",
    "eweight = w.new_ep(\"int\")\n",
    "print(len(eweight.a))  # The array view *always* corresponds to the unfiltered graph underneath!\n",
    "\n",
    "# For filtered graphs, we need to use the .fa attribute (which returns a view into the array)\n",
    "\n",
    "print(len(eweight.fa))\n",
    "\n",
    "eweight.fa = 10\n",
    "print(eweight.fa)\n",
    "print(eweight.a)"
   ]
  },
  {
   "cell_type": "markdown",
   "metadata": {},
   "source": [
    "### Exercise 7\n",
    "\n",
    "* Using `GraphView`, write a function that gets the undirected version of a directed graph and filters out vertices of degree 3 or smaller, returning the result.\n",
    "\n",
    "* Use the function above on the `polblogs` network.\n",
    "\n",
    "* What happens if you run that function iteratively, multiple times?"
   ]
  },
  {
   "cell_type": "code",
   "execution_count": null,
   "metadata": {},
   "outputs": [],
   "source": [
    "def kfilt(g):\n",
    "    u = GraphView(g, directed=False)\n",
    "    return GraphView(u, vfilt=lambda v: v.out_degree() > 3)\n",
    "g = collection.data[\"polblogs\"]\n",
    "u = kfilt(g)\n",
    "graph_draw(u, pos=u.vp.pos)\n",
    "\n",
    "print(g.num_vertices())\n",
    "u = g\n",
    "for i in range(4):\n",
    "    u = kfilt(u)\n",
    "    print(u.num_vertices())\n",
    "graph_draw(u, pos=u.vp.pos)"
   ]
  },
  {
   "cell_type": "markdown",
   "metadata": {},
   "source": [
    "# Community detection and statistical inference\n",
    "\n",
    "Graph-tool has extensive functionally to detect modules (or \"communities\") of nodes using principled statistical inference approaches. A detailed howto can be found here: https://graph-tool.skewed.de/static/doc/demos/inference/inference.html"
   ]
  },
  {
   "cell_type": "code",
   "execution_count": null,
   "metadata": {},
   "outputs": [],
   "source": [
    "g = collection.data[\"polblogs\"]\n",
    "g = extract_largest_component(g, directed=False, prune=True)\n",
    "\n",
    "graph_draw(g, pos=g.vp.pos, output_size=(300, 300));"
   ]
  },
  {
   "cell_type": "code",
   "execution_count": null,
   "metadata": {},
   "outputs": [],
   "source": [
    "# Suppose we want to figure out the groups, without \"looking\" at the network or using the metadata.\n",
    "# We can do this by fitting the stochastic block model (SBM):\n",
    "\n",
    "state = minimize_blockmodel_dl(g, multilevel_mcmc_args=dict(B_min=2, B_max=2))  # we will force B=2 groups for now\n",
    "\n",
    "b = state.get_blocks()\n",
    "print(b.a)\n",
    "\n",
    "state.draw(pos=g.vp.pos, output_size=(300, 300));"
   ]
  },
  {
   "cell_type": "code",
   "execution_count": null,
   "metadata": {},
   "outputs": [],
   "source": [
    "# What if we don't set the number of groups?\n",
    "\n",
    "state = minimize_blockmodel_dl(g)\n",
    "print(state)\n",
    "state.draw(pos=g.vp.pos, output_size=(300, 300));\n"
   ]
  },
  {
   "cell_type": "code",
   "execution_count": null,
   "metadata": {},
   "outputs": [],
   "source": [
    "# We can also fit hierarchical SBMs, which have a stronger explanatory power:\n",
    "\n",
    "state = minimize_nested_blockmodel_dl(g)\n",
    "state.draw(output_size=(300, 300));"
   ]
  },
  {
   "cell_type": "markdown",
   "metadata": {},
   "source": [
    "### Exercise  8\n",
    "\n",
    "* Generate a random graph with 1000 nodes and with a Poisson degree distribution with mean 1.2.\n",
    "* Draw the graph.\n",
    "* Fit a SBM (non-nested) on it. How many groups does it find? Do you find this reasonable?\n",
    "\n",
    "### Exercise 9\n",
    "\n",
    "* The network `collection.data[\"dolphins\"]` contains the network of friendships between 62 dolphins.\n",
    "* Use the SBM to investigate its structure: Fit the SBM and visualize the result."
   ]
  },
  {
   "cell_type": "code",
   "execution_count": null,
   "metadata": {},
   "outputs": [],
   "source": []
  }
 ],
 "metadata": {
  "kernelspec": {
   "display_name": "Python 3 (ipykernel)",
   "language": "python",
   "name": "python3"
  },
  "language_info": {
   "codemirror_mode": {
    "name": "ipython",
    "version": 3
   },
   "file_extension": ".py",
   "mimetype": "text/x-python",
   "name": "python",
   "nbconvert_exporter": "python",
   "pygments_lexer": "ipython3",
   "version": "3.11.5"
  }
 },
 "nbformat": 4,
 "nbformat_minor": 4
}
